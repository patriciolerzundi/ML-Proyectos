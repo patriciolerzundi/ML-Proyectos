{
 "cells": [
  {
   "cell_type": "markdown",
   "id": "b3c4dc4c-2b2a-4e85-82c9-0b84a6e2ca53",
   "metadata": {},
   "source": [
    "# Análisis y Segmentación De Clientes Ecommerce"
   ]
  },
  {
   "cell_type": "markdown",
   "id": "ad1feb5a-d24e-4027-a808-ee8f40b7683d",
   "metadata": {},
   "source": [
    "## Instrucciones\n",
    "\n",
    "- Este libro contiene el código fuente de los algoritmos utilizados para llegar el resultado deseado.\n",
    "- Contiene gráficos descriptivos para ver como se comportan los datos y resultados de los mismos."
   ]
  },
  {
   "cell_type": "markdown",
   "id": "34124c43-f7ca-4ed3-b286-777e27b73fe5",
   "metadata": {},
   "source": [
    "### Importando las librerías que se van a utilizar."
   ]
  },
  {
   "cell_type": "code",
   "execution_count": 13,
   "id": "4b2c518c-c300-4ae9-b1e7-b4b865269ad5",
   "metadata": {},
   "outputs": [],
   "source": [
    "import pandas as pd\n",
    "import numpy as np\n",
    "import matplotlib.pyplot as plt\n",
    "import seaborn as sns\n"
   ]
  },
  {
   "cell_type": "markdown",
   "id": "a418fb84-79d2-4cc8-a1a0-2b0d346fec18",
   "metadata": {},
   "source": [
    "# Exploración de los datos"
   ]
  },
  {
   "cell_type": "code",
   "execution_count": 14,
   "id": "fc47c4a2-de5b-4599-9f4e-8f284f921895",
   "metadata": {},
   "outputs": [
    {
     "data": {
      "text/html": [
       "<div>\n",
       "<style scoped>\n",
       "    .dataframe tbody tr th:only-of-type {\n",
       "        vertical-align: middle;\n",
       "    }\n",
       "\n",
       "    .dataframe tbody tr th {\n",
       "        vertical-align: top;\n",
       "    }\n",
       "\n",
       "    .dataframe thead th {\n",
       "        text-align: right;\n",
       "    }\n",
       "</style>\n",
       "<table border=\"1\" class=\"dataframe\">\n",
       "  <thead>\n",
       "    <tr style=\"text-align: right;\">\n",
       "      <th></th>\n",
       "      <th>InvoiceNo</th>\n",
       "      <th>StockCode</th>\n",
       "      <th>Description</th>\n",
       "      <th>Quantity</th>\n",
       "      <th>InvoiceDate</th>\n",
       "      <th>UnitPrice</th>\n",
       "      <th>CustomerID</th>\n",
       "      <th>Country</th>\n",
       "    </tr>\n",
       "  </thead>\n",
       "  <tbody>\n",
       "    <tr>\n",
       "      <th>0</th>\n",
       "      <td>536365</td>\n",
       "      <td>85123A</td>\n",
       "      <td>WHITE HANGING HEART T-LIGHT HOLDER</td>\n",
       "      <td>6</td>\n",
       "      <td>2010-12-01 08:26:00</td>\n",
       "      <td>2.55</td>\n",
       "      <td>17850.0</td>\n",
       "      <td>United Kingdom</td>\n",
       "    </tr>\n",
       "    <tr>\n",
       "      <th>1</th>\n",
       "      <td>536365</td>\n",
       "      <td>71053</td>\n",
       "      <td>WHITE METAL LANTERN</td>\n",
       "      <td>6</td>\n",
       "      <td>2010-12-01 08:26:00</td>\n",
       "      <td>3.39</td>\n",
       "      <td>17850.0</td>\n",
       "      <td>United Kingdom</td>\n",
       "    </tr>\n",
       "    <tr>\n",
       "      <th>2</th>\n",
       "      <td>536365</td>\n",
       "      <td>84406B</td>\n",
       "      <td>CREAM CUPID HEARTS COAT HANGER</td>\n",
       "      <td>8</td>\n",
       "      <td>2010-12-01 08:26:00</td>\n",
       "      <td>2.75</td>\n",
       "      <td>17850.0</td>\n",
       "      <td>United Kingdom</td>\n",
       "    </tr>\n",
       "    <tr>\n",
       "      <th>3</th>\n",
       "      <td>536365</td>\n",
       "      <td>84029G</td>\n",
       "      <td>KNITTED UNION FLAG HOT WATER BOTTLE</td>\n",
       "      <td>6</td>\n",
       "      <td>2010-12-01 08:26:00</td>\n",
       "      <td>3.39</td>\n",
       "      <td>17850.0</td>\n",
       "      <td>United Kingdom</td>\n",
       "    </tr>\n",
       "    <tr>\n",
       "      <th>4</th>\n",
       "      <td>536365</td>\n",
       "      <td>84029E</td>\n",
       "      <td>RED WOOLLY HOTTIE WHITE HEART.</td>\n",
       "      <td>6</td>\n",
       "      <td>2010-12-01 08:26:00</td>\n",
       "      <td>3.39</td>\n",
       "      <td>17850.0</td>\n",
       "      <td>United Kingdom</td>\n",
       "    </tr>\n",
       "  </tbody>\n",
       "</table>\n",
       "</div>"
      ],
      "text/plain": [
       "  InvoiceNo StockCode                          Description  Quantity  \\\n",
       "0    536365    85123A   WHITE HANGING HEART T-LIGHT HOLDER         6   \n",
       "1    536365     71053                  WHITE METAL LANTERN         6   \n",
       "2    536365    84406B       CREAM CUPID HEARTS COAT HANGER         8   \n",
       "3    536365    84029G  KNITTED UNION FLAG HOT WATER BOTTLE         6   \n",
       "4    536365    84029E       RED WOOLLY HOTTIE WHITE HEART.         6   \n",
       "\n",
       "           InvoiceDate  UnitPrice  CustomerID         Country  \n",
       "0  2010-12-01 08:26:00       2.55     17850.0  United Kingdom  \n",
       "1  2010-12-01 08:26:00       3.39     17850.0  United Kingdom  \n",
       "2  2010-12-01 08:26:00       2.75     17850.0  United Kingdom  \n",
       "3  2010-12-01 08:26:00       3.39     17850.0  United Kingdom  \n",
       "4  2010-12-01 08:26:00       3.39     17850.0  United Kingdom  "
      ]
     },
     "execution_count": 14,
     "metadata": {},
     "output_type": "execute_result"
    }
   ],
   "source": [
    "# Carga y lectura del dataset\n",
    "path = 'C:/Users/plerzundi/Documents/GitHub/ML-Proyectos/Datasets/online_ecommerce.csv'\n",
    "df = pd.read_csv(path,sep=';')\n",
    "df.head()"
   ]
  },
  {
   "cell_type": "code",
   "execution_count": 15,
   "id": "feebde2b-23e7-4abf-bdc4-1f1c16bb955c",
   "metadata": {},
   "outputs": [
    {
     "data": {
      "text/html": [
       "<div>\n",
       "<style scoped>\n",
       "    .dataframe tbody tr th:only-of-type {\n",
       "        vertical-align: middle;\n",
       "    }\n",
       "\n",
       "    .dataframe tbody tr th {\n",
       "        vertical-align: top;\n",
       "    }\n",
       "\n",
       "    .dataframe thead th {\n",
       "        text-align: right;\n",
       "    }\n",
       "</style>\n",
       "<table border=\"1\" class=\"dataframe\">\n",
       "  <thead>\n",
       "    <tr style=\"text-align: right;\">\n",
       "      <th></th>\n",
       "      <th>Quantity</th>\n",
       "      <th>UnitPrice</th>\n",
       "      <th>CustomerID</th>\n",
       "    </tr>\n",
       "  </thead>\n",
       "  <tbody>\n",
       "    <tr>\n",
       "      <th>count</th>\n",
       "      <td>541909.000000</td>\n",
       "      <td>541909.000000</td>\n",
       "      <td>406829.000000</td>\n",
       "    </tr>\n",
       "    <tr>\n",
       "      <th>mean</th>\n",
       "      <td>9.552250</td>\n",
       "      <td>4.611114</td>\n",
       "      <td>15287.690570</td>\n",
       "    </tr>\n",
       "    <tr>\n",
       "      <th>std</th>\n",
       "      <td>218.081158</td>\n",
       "      <td>96.759853</td>\n",
       "      <td>1713.600303</td>\n",
       "    </tr>\n",
       "    <tr>\n",
       "      <th>min</th>\n",
       "      <td>-80995.000000</td>\n",
       "      <td>-11062.060000</td>\n",
       "      <td>12346.000000</td>\n",
       "    </tr>\n",
       "    <tr>\n",
       "      <th>25%</th>\n",
       "      <td>1.000000</td>\n",
       "      <td>1.250000</td>\n",
       "      <td>13953.000000</td>\n",
       "    </tr>\n",
       "    <tr>\n",
       "      <th>50%</th>\n",
       "      <td>3.000000</td>\n",
       "      <td>2.080000</td>\n",
       "      <td>15152.000000</td>\n",
       "    </tr>\n",
       "    <tr>\n",
       "      <th>75%</th>\n",
       "      <td>10.000000</td>\n",
       "      <td>4.130000</td>\n",
       "      <td>16791.000000</td>\n",
       "    </tr>\n",
       "    <tr>\n",
       "      <th>max</th>\n",
       "      <td>80995.000000</td>\n",
       "      <td>38970.000000</td>\n",
       "      <td>18287.000000</td>\n",
       "    </tr>\n",
       "  </tbody>\n",
       "</table>\n",
       "</div>"
      ],
      "text/plain": [
       "            Quantity      UnitPrice     CustomerID\n",
       "count  541909.000000  541909.000000  406829.000000\n",
       "mean        9.552250       4.611114   15287.690570\n",
       "std       218.081158      96.759853    1713.600303\n",
       "min    -80995.000000  -11062.060000   12346.000000\n",
       "25%         1.000000       1.250000   13953.000000\n",
       "50%         3.000000       2.080000   15152.000000\n",
       "75%        10.000000       4.130000   16791.000000\n",
       "max     80995.000000   38970.000000   18287.000000"
      ]
     },
     "execution_count": 15,
     "metadata": {},
     "output_type": "execute_result"
    }
   ],
   "source": [
    "# Sumario estadístico\n",
    "df.describe()"
   ]
  },
  {
   "cell_type": "code",
   "execution_count": 16,
   "id": "d55667ce-5c40-4c06-8523-4615953adccf",
   "metadata": {},
   "outputs": [
    {
     "name": "stdout",
     "output_type": "stream",
     "text": [
      "<class 'pandas.core.frame.DataFrame'>\n",
      "RangeIndex: 541909 entries, 0 to 541908\n",
      "Data columns (total 8 columns):\n",
      " #   Column       Non-Null Count   Dtype  \n",
      "---  ------       --------------   -----  \n",
      " 0   InvoiceNo    541909 non-null  object \n",
      " 1   StockCode    541909 non-null  object \n",
      " 2   Description  540455 non-null  object \n",
      " 3   Quantity     541909 non-null  int64  \n",
      " 4   InvoiceDate  541909 non-null  object \n",
      " 5   UnitPrice    541909 non-null  float64\n",
      " 6   CustomerID   406829 non-null  float64\n",
      " 7   Country      541909 non-null  object \n",
      "dtypes: float64(2), int64(1), object(5)\n",
      "memory usage: 33.1+ MB\n"
     ]
    }
   ],
   "source": [
    "# Veamos las propiedades de las características\n",
    "df.info()"
   ]
  },
  {
   "cell_type": "code",
   "execution_count": 17,
   "id": "914c3640-abd5-4b96-a18e-9cf8b0df13a6",
   "metadata": {},
   "outputs": [],
   "source": [
    "# Vamos a corregir el feature InvoiceDate\n",
    "df['InvoiceDate'] = df['InvoiceDate'].astype('datetime64[ns]')"
   ]
  },
  {
   "cell_type": "code",
   "execution_count": 18,
   "id": "91bdd6a8-9ddb-457f-8be4-5443e53fb0a8",
   "metadata": {},
   "outputs": [
    {
     "name": "stdout",
     "output_type": "stream",
     "text": [
      "<class 'pandas.core.series.Series'>\n",
      "RangeIndex: 541909 entries, 0 to 541908\n",
      "Series name: InvoiceDate\n",
      "Non-Null Count   Dtype         \n",
      "--------------   -----         \n",
      "541909 non-null  datetime64[ns]\n",
      "dtypes: datetime64[ns](1)\n",
      "memory usage: 4.1 MB\n"
     ]
    }
   ],
   "source": [
    "# Veamos si invoiceDate esta corregido\n",
    "df['InvoiceDate'].info()"
   ]
  },
  {
   "cell_type": "code",
   "execution_count": 19,
   "id": "75904e8a-57a8-4e0e-b60d-118feee4b304",
   "metadata": {},
   "outputs": [
    {
     "data": {
      "text/plain": [
       "(541909, 8)"
      ]
     },
     "execution_count": 19,
     "metadata": {},
     "output_type": "execute_result"
    }
   ],
   "source": [
    "# Ver la dimensionalidad de los datos\n",
    "df.shape"
   ]
  },
  {
   "cell_type": "markdown",
   "id": "e07e473b-5c25-4c33-9efa-1551fd0082f3",
   "metadata": {},
   "source": [
    "#### Este dataframe contiene 8 variables:\n",
    "\n",
    "| Variable    | N ° Atributos | Descripción                                                                                                                                             |\n",
    "|-------------|---------------|---------------------------------------------------------------------------------------------------------------------------------------------------------|\n",
    "| InvoiceNo   | 25900         | Número de factura. Nominal, un número de 6 dígitos asignado de forma exclusiva a cada transacción. Si este código empieza en \"c\", indica una anulación. |\n",
    "| StockCode   | 4070          | Código del producto (artículo). Nominal, un número de 5 dígitos asignado de forma exclusiva a cada producto distinto.                                   |\n",
    "| Description | 4224          | Descripción (artículo). Nominal, descripción del producto en general.                                                                                   |\n",
    "| Quantity    | 722           | Las cantidades de cada producto (artículo) por transacción. Numérico.                                                                                   |\n",
    "| InvoiceDate | 23260         | Fecha y hora de la factura. Numérico, el día y la hora en que se generó cada transacción.                                                               |\n",
    "| UnitPrice   | 1630          | Precio por unidad. Numérico, Precio del producto por unidad.                                                                                            |\n",
    "| CustomerID  | 4373          | Número de cliente. Nominal, un número  de 5 dígitos asignado de forma exclusiva a cada cliente.                                                         |\n",
    "| Country     | 38            | Nombre del país. Nominal, el nombre del país donde reside cada cliente.                                                                                 |\n"
   ]
  },
  {
   "cell_type": "code",
   "execution_count": 20,
   "id": "fb9052fc-fb1a-4ae4-94fa-e5c5f6ee377d",
   "metadata": {},
   "outputs": [
    {
     "name": "stdout",
     "output_type": "stream",
     "text": [
      "==== N° De Atributos ====\n",
      "InvoiceNo=> 25900\n",
      "StockCode=> 4070\n",
      "Description=> 4224\n",
      "Quantity=> 722\n",
      "InvoiceDate=> 23260\n",
      "UnitPrice=> 1630\n",
      "CustomerID=> 4373\n",
      "Country=> 38\n",
      "=========================\n"
     ]
    }
   ],
   "source": [
    "# Traemos la cantidad de atributos existentes en las features, por lo que cuadra con la tabla anterior\n",
    "arr_col = df.columns.values\n",
    "print(\"==== N° De Atributos ====\")\n",
    "for columna in arr_col:\n",
    "    print(f\"{columna}=>\",len(df[columna].unique()))\n",
    "print(\"=========================\")"
   ]
  },
  {
   "cell_type": "code",
   "execution_count": 21,
   "id": "bc69971f-6d62-411e-b6ff-c1860c1061c5",
   "metadata": {},
   "outputs": [
    {
     "data": {
      "text/html": [
       "<div>\n",
       "<style scoped>\n",
       "    .dataframe tbody tr th:only-of-type {\n",
       "        vertical-align: middle;\n",
       "    }\n",
       "\n",
       "    .dataframe tbody tr th {\n",
       "        vertical-align: top;\n",
       "    }\n",
       "\n",
       "    .dataframe thead th {\n",
       "        text-align: right;\n",
       "    }\n",
       "</style>\n",
       "<table border=\"1\" class=\"dataframe\">\n",
       "  <thead>\n",
       "    <tr style=\"text-align: right;\">\n",
       "      <th></th>\n",
       "      <th>InvoiceNo</th>\n",
       "      <th>StockCode</th>\n",
       "      <th>Description</th>\n",
       "      <th>Quantity</th>\n",
       "      <th>InvoiceDate</th>\n",
       "      <th>UnitPrice</th>\n",
       "      <th>CustomerID</th>\n",
       "      <th>Country</th>\n",
       "    </tr>\n",
       "  </thead>\n",
       "  <tbody>\n",
       "    <tr>\n",
       "      <th>Tipo Columnas</th>\n",
       "      <td>object</td>\n",
       "      <td>object</td>\n",
       "      <td>object</td>\n",
       "      <td>int64</td>\n",
       "      <td>datetime64[ns]</td>\n",
       "      <td>float64</td>\n",
       "      <td>float64</td>\n",
       "      <td>object</td>\n",
       "    </tr>\n",
       "    <tr>\n",
       "      <th>Total Registros</th>\n",
       "      <td>541909</td>\n",
       "      <td>541909</td>\n",
       "      <td>540455</td>\n",
       "      <td>541909</td>\n",
       "      <td>541909</td>\n",
       "      <td>541909</td>\n",
       "      <td>406829</td>\n",
       "      <td>541909</td>\n",
       "    </tr>\n",
       "    <tr>\n",
       "      <th>Valores Nulos (Cantidad)</th>\n",
       "      <td>0</td>\n",
       "      <td>0</td>\n",
       "      <td>1454</td>\n",
       "      <td>0</td>\n",
       "      <td>0</td>\n",
       "      <td>0</td>\n",
       "      <td>135080</td>\n",
       "      <td>0</td>\n",
       "    </tr>\n",
       "    <tr>\n",
       "      <th>Valores Nulos (%)</th>\n",
       "      <td>0.0</td>\n",
       "      <td>0.0</td>\n",
       "      <td>0.268311</td>\n",
       "      <td>0.0</td>\n",
       "      <td>0.0</td>\n",
       "      <td>0.0</td>\n",
       "      <td>24.926694</td>\n",
       "      <td>0.0</td>\n",
       "    </tr>\n",
       "  </tbody>\n",
       "</table>\n",
       "</div>"
      ],
      "text/plain": [
       "                         InvoiceNo StockCode Description Quantity  \\\n",
       "Tipo Columnas               object    object      object    int64   \n",
       "Total Registros             541909    541909      540455   541909   \n",
       "Valores Nulos (Cantidad)         0         0        1454        0   \n",
       "Valores Nulos (%)              0.0       0.0    0.268311      0.0   \n",
       "\n",
       "                             InvoiceDate UnitPrice CustomerID Country  \n",
       "Tipo Columnas             datetime64[ns]   float64    float64  object  \n",
       "Total Registros                   541909    541909     406829  541909  \n",
       "Valores Nulos (Cantidad)               0         0     135080       0  \n",
       "Valores Nulos (%)                    0.0       0.0  24.926694     0.0  "
      ]
     },
     "execution_count": 21,
     "metadata": {},
     "output_type": "execute_result"
    }
   ],
   "source": [
    "columnas = pd.DataFrame(df.dtypes).T.rename(index={0: 'Tipo Columnas'})\n",
    "total_re = pd.DataFrame(df.count()).T.rename(index={0:'Total Registros'})\n",
    "valores_n = pd.DataFrame(df.isnull().sum()).T.rename(index={0:'Valores Nulos (Cantidad)'})\n",
    "valores_p = pd.DataFrame((df.isnull().sum()/df.shape[0])* 100).T.rename(index={0:'Valores Nulos (%)'})\n",
    "table_info = pd.concat([columnas,total_re,valores_n,valores_p],axis=0)\n",
    "table_info"
   ]
  },
  {
   "cell_type": "code",
   "execution_count": 22,
   "id": "eb1f5973-7853-4a48-a2e4-1548aafade57",
   "metadata": {},
   "outputs": [
    {
     "name": "stdout",
     "output_type": "stream",
     "text": [
      "El dataset comienza con el punto de tiempo 2010-12-01 08:26:00\n",
      "El dataset finaliza con el punto de tiempo 2011-12-09 12:50:00\n"
     ]
    }
   ],
   "source": [
    "# Veamos el periodo de nuetro dataset\n",
    "print(f\"El dataset comienza con el punto de tiempo {df.InvoiceDate.min()}\")\n",
    "print(f\"El dataset finaliza con el punto de tiempo {df.InvoiceDate.max()}\")"
   ]
  },
  {
   "cell_type": "code",
   "execution_count": 23,
   "id": "04f647b2-4df1-4c77-8209-6bff6c54d671",
   "metadata": {},
   "outputs": [
    {
     "data": {
      "text/plain": [
       "False    98.286059\n",
       "True      1.713941\n",
       "Name: IsCancelled, dtype: float64"
      ]
     },
     "execution_count": 23,
     "metadata": {},
     "output_type": "execute_result"
    }
   ],
   "source": [
    "# Podemos Ver que el 1,71% corresponde a productos cancelados, por lo cuál podemos tratar estos datos a futuro\n",
    "prod_can = pd.DataFrame()\n",
    "prod_can['IsCancelled']=np.where(df.InvoiceNo.apply(lambda l: l[0] == 'C'),True,False)\n",
    "prod_can.IsCancelled.value_counts() / prod_can.shape[0] * 100"
   ]
  },
  {
   "cell_type": "code",
   "execution_count": 24,
   "id": "793bdb8e-3a7a-40b4-a63a-b7612557448d",
   "metadata": {},
   "outputs": [
    {
     "data": {
      "text/plain": [
       "False    99.846469\n",
       "True      0.153531\n",
       "Name: IsDiscount, dtype: float64"
      ]
     },
     "execution_count": 24,
     "metadata": {},
     "output_type": "execute_result"
    }
   ],
   "source": [
    "# Podemos encontrar en el total del dataset el 0.15% de productos en descuentos\n",
    "prod_dis = pd.DataFrame()\n",
    "prod_dis['IsDiscount'] = np.where(df.StockCode.apply(lambda d: d[0] == 'D'),True,False)\n",
    "prod_dis.IsDiscount.value_counts() / prod_dis.shape[0] * 100"
   ]
  },
  {
   "cell_type": "code",
   "execution_count": 25,
   "id": "e30f727c-6221-435d-a460-fe8eb8db92f9",
   "metadata": {},
   "outputs": [
    {
     "data": {
      "text/plain": [
       "5268"
      ]
     },
     "execution_count": 25,
     "metadata": {},
     "output_type": "execute_result"
    }
   ],
   "source": [
    "#  Tenemos 5268 registros duplicados, pero hay que verificar si realmente son replicas\n",
    "df.duplicated().sum()"
   ]
  },
  {
   "cell_type": "code",
   "execution_count": 26,
   "id": "6b0cb6b0-750d-45de-a3b9-451174f5a801",
   "metadata": {},
   "outputs": [
    {
     "data": {
      "text/html": [
       "<div>\n",
       "<style scoped>\n",
       "    .dataframe tbody tr th:only-of-type {\n",
       "        vertical-align: middle;\n",
       "    }\n",
       "\n",
       "    .dataframe tbody tr th {\n",
       "        vertical-align: top;\n",
       "    }\n",
       "\n",
       "    .dataframe thead th {\n",
       "        text-align: right;\n",
       "    }\n",
       "</style>\n",
       "<table border=\"1\" class=\"dataframe\">\n",
       "  <thead>\n",
       "    <tr style=\"text-align: right;\">\n",
       "      <th></th>\n",
       "      <th>InvoiceNo</th>\n",
       "      <th>StockCode</th>\n",
       "      <th>Description</th>\n",
       "      <th>Quantity</th>\n",
       "      <th>InvoiceDate</th>\n",
       "      <th>UnitPrice</th>\n",
       "      <th>CustomerID</th>\n",
       "      <th>Country</th>\n",
       "    </tr>\n",
       "  </thead>\n",
       "  <tbody>\n",
       "    <tr>\n",
       "      <th>1</th>\n",
       "      <td>536365</td>\n",
       "      <td>71053</td>\n",
       "      <td>WHITE METAL LANTERN</td>\n",
       "      <td>6</td>\n",
       "      <td>2010-12-01 08:26:00</td>\n",
       "      <td>3.39</td>\n",
       "      <td>17850.0</td>\n",
       "      <td>United Kingdom</td>\n",
       "    </tr>\n",
       "    <tr>\n",
       "      <th>2</th>\n",
       "      <td>536365</td>\n",
       "      <td>84406B</td>\n",
       "      <td>CREAM CUPID HEARTS COAT HANGER</td>\n",
       "      <td>8</td>\n",
       "      <td>2010-12-01 08:26:00</td>\n",
       "      <td>2.75</td>\n",
       "      <td>17850.0</td>\n",
       "      <td>United Kingdom</td>\n",
       "    </tr>\n",
       "    <tr>\n",
       "      <th>3</th>\n",
       "      <td>536365</td>\n",
       "      <td>84029G</td>\n",
       "      <td>KNITTED UNION FLAG HOT WATER BOTTLE</td>\n",
       "      <td>6</td>\n",
       "      <td>2010-12-01 08:26:00</td>\n",
       "      <td>3.39</td>\n",
       "      <td>17850.0</td>\n",
       "      <td>United Kingdom</td>\n",
       "    </tr>\n",
       "    <tr>\n",
       "      <th>4</th>\n",
       "      <td>536365</td>\n",
       "      <td>84029E</td>\n",
       "      <td>RED WOOLLY HOTTIE WHITE HEART.</td>\n",
       "      <td>6</td>\n",
       "      <td>2010-12-01 08:26:00</td>\n",
       "      <td>3.39</td>\n",
       "      <td>17850.0</td>\n",
       "      <td>United Kingdom</td>\n",
       "    </tr>\n",
       "    <tr>\n",
       "      <th>5</th>\n",
       "      <td>536365</td>\n",
       "      <td>22752</td>\n",
       "      <td>SET 7 BABUSHKA NESTING BOXES</td>\n",
       "      <td>2</td>\n",
       "      <td>2010-12-01 08:26:00</td>\n",
       "      <td>7.65</td>\n",
       "      <td>17850.0</td>\n",
       "      <td>United Kingdom</td>\n",
       "    </tr>\n",
       "    <tr>\n",
       "      <th>...</th>\n",
       "      <td>...</td>\n",
       "      <td>...</td>\n",
       "      <td>...</td>\n",
       "      <td>...</td>\n",
       "      <td>...</td>\n",
       "      <td>...</td>\n",
       "      <td>...</td>\n",
       "      <td>...</td>\n",
       "    </tr>\n",
       "    <tr>\n",
       "      <th>541904</th>\n",
       "      <td>581587</td>\n",
       "      <td>22613</td>\n",
       "      <td>PACK OF 20 SPACEBOY NAPKINS</td>\n",
       "      <td>12</td>\n",
       "      <td>2011-12-09 12:50:00</td>\n",
       "      <td>0.85</td>\n",
       "      <td>12680.0</td>\n",
       "      <td>France</td>\n",
       "    </tr>\n",
       "    <tr>\n",
       "      <th>541905</th>\n",
       "      <td>581587</td>\n",
       "      <td>22899</td>\n",
       "      <td>CHILDREN'S APRON DOLLY GIRL</td>\n",
       "      <td>6</td>\n",
       "      <td>2011-12-09 12:50:00</td>\n",
       "      <td>2.10</td>\n",
       "      <td>12680.0</td>\n",
       "      <td>France</td>\n",
       "    </tr>\n",
       "    <tr>\n",
       "      <th>541906</th>\n",
       "      <td>581587</td>\n",
       "      <td>23254</td>\n",
       "      <td>CHILDRENS CUTLERY DOLLY GIRL</td>\n",
       "      <td>4</td>\n",
       "      <td>2011-12-09 12:50:00</td>\n",
       "      <td>4.15</td>\n",
       "      <td>12680.0</td>\n",
       "      <td>France</td>\n",
       "    </tr>\n",
       "    <tr>\n",
       "      <th>541907</th>\n",
       "      <td>581587</td>\n",
       "      <td>23255</td>\n",
       "      <td>CHILDRENS CUTLERY CIRCUS PARADE</td>\n",
       "      <td>4</td>\n",
       "      <td>2011-12-09 12:50:00</td>\n",
       "      <td>4.15</td>\n",
       "      <td>12680.0</td>\n",
       "      <td>France</td>\n",
       "    </tr>\n",
       "    <tr>\n",
       "      <th>541908</th>\n",
       "      <td>581587</td>\n",
       "      <td>22138</td>\n",
       "      <td>BAKING SET 9 PIECE RETROSPOT</td>\n",
       "      <td>3</td>\n",
       "      <td>2011-12-09 12:50:00</td>\n",
       "      <td>4.95</td>\n",
       "      <td>12680.0</td>\n",
       "      <td>France</td>\n",
       "    </tr>\n",
       "  </tbody>\n",
       "</table>\n",
       "<p>516009 rows × 8 columns</p>\n",
       "</div>"
      ],
      "text/plain": [
       "       InvoiceNo StockCode                          Description  Quantity  \\\n",
       "1         536365     71053                  WHITE METAL LANTERN         6   \n",
       "2         536365    84406B       CREAM CUPID HEARTS COAT HANGER         8   \n",
       "3         536365    84029G  KNITTED UNION FLAG HOT WATER BOTTLE         6   \n",
       "4         536365    84029E       RED WOOLLY HOTTIE WHITE HEART.         6   \n",
       "5         536365     22752         SET 7 BABUSHKA NESTING BOXES         2   \n",
       "...          ...       ...                                  ...       ...   \n",
       "541904    581587     22613          PACK OF 20 SPACEBOY NAPKINS        12   \n",
       "541905    581587     22899         CHILDREN'S APRON DOLLY GIRL          6   \n",
       "541906    581587     23254        CHILDRENS CUTLERY DOLLY GIRL          4   \n",
       "541907    581587     23255      CHILDRENS CUTLERY CIRCUS PARADE         4   \n",
       "541908    581587     22138        BAKING SET 9 PIECE RETROSPOT          3   \n",
       "\n",
       "               InvoiceDate  UnitPrice  CustomerID         Country  \n",
       "1      2010-12-01 08:26:00       3.39     17850.0  United Kingdom  \n",
       "2      2010-12-01 08:26:00       2.75     17850.0  United Kingdom  \n",
       "3      2010-12-01 08:26:00       3.39     17850.0  United Kingdom  \n",
       "4      2010-12-01 08:26:00       3.39     17850.0  United Kingdom  \n",
       "5      2010-12-01 08:26:00       7.65     17850.0  United Kingdom  \n",
       "...                    ...        ...         ...             ...  \n",
       "541904 2011-12-09 12:50:00       0.85     12680.0          France  \n",
       "541905 2011-12-09 12:50:00       2.10     12680.0          France  \n",
       "541906 2011-12-09 12:50:00       4.15     12680.0          France  \n",
       "541907 2011-12-09 12:50:00       4.15     12680.0          France  \n",
       "541908 2011-12-09 12:50:00       4.95     12680.0          France  \n",
       "\n",
       "[516009 rows x 8 columns]"
      ]
     },
     "execution_count": 26,
     "metadata": {},
     "output_type": "execute_result"
    }
   ],
   "source": [
    "# Verificamos los duplicados, pero como tienen numero de factura, no significa que todos sean el mismo item\n",
    "df[df.InvoiceNo.duplicated()]"
   ]
  },
  {
   "cell_type": "code",
   "execution_count": 27,
   "id": "eb127127-8722-4001-8745-2d5bb21e7ff4",
   "metadata": {},
   "outputs": [
    {
     "name": "stdout",
     "output_type": "stream",
     "text": [
      "Cantidad Descuentos: 77,\n",
      "Cantidad envio por correo: 1256,\n",
      "Orden Canceladas: 9288\n",
      "\n"
     ]
    }
   ],
   "source": [
    "print(f\"\"\"Cantidad Descuentos: {len(df[df['StockCode'] == 'D'])},\n",
    "Cantidad envio por correo: {len(df[df['StockCode'] == 'POST'])},\n",
    "Orden Canceladas: {len(df[df['InvoiceNo'].str.startswith('C')])}\n",
    "\"\"\")"
   ]
  },
  {
   "cell_type": "markdown",
   "id": "e15ee81b-59ac-4dd8-a8ba-c18f2bcb9252",
   "metadata": {},
   "source": [
    "# Transformar Datos"
   ]
  },
  {
   "cell_type": "code",
   "execution_count": 28,
   "id": "95d11094-0a45-4f2e-95df-ddc8bb203af2",
   "metadata": {},
   "outputs": [],
   "source": [
    "# Vamos eliminar los datos que contengan null de los clientes y descripción\n",
    "df = df.dropna(subset=['CustomerID','Description'])"
   ]
  },
  {
   "cell_type": "code",
   "execution_count": 29,
   "id": "1004f234-9c84-4057-931d-74bed80913ca",
   "metadata": {},
   "outputs": [
    {
     "data": {
      "text/html": [
       "<div>\n",
       "<style scoped>\n",
       "    .dataframe tbody tr th:only-of-type {\n",
       "        vertical-align: middle;\n",
       "    }\n",
       "\n",
       "    .dataframe tbody tr th {\n",
       "        vertical-align: top;\n",
       "    }\n",
       "\n",
       "    .dataframe thead th {\n",
       "        text-align: right;\n",
       "    }\n",
       "</style>\n",
       "<table border=\"1\" class=\"dataframe\">\n",
       "  <thead>\n",
       "    <tr style=\"text-align: right;\">\n",
       "      <th></th>\n",
       "      <th>InvoiceNo</th>\n",
       "      <th>StockCode</th>\n",
       "      <th>Description</th>\n",
       "      <th>Quantity</th>\n",
       "      <th>InvoiceDate</th>\n",
       "      <th>UnitPrice</th>\n",
       "      <th>CustomerID</th>\n",
       "      <th>Country</th>\n",
       "    </tr>\n",
       "  </thead>\n",
       "  <tbody>\n",
       "    <tr>\n",
       "      <th>Tipo Columnas</th>\n",
       "      <td>object</td>\n",
       "      <td>object</td>\n",
       "      <td>object</td>\n",
       "      <td>int64</td>\n",
       "      <td>datetime64[ns]</td>\n",
       "      <td>float64</td>\n",
       "      <td>float64</td>\n",
       "      <td>object</td>\n",
       "    </tr>\n",
       "    <tr>\n",
       "      <th>Total Registros</th>\n",
       "      <td>406829</td>\n",
       "      <td>406829</td>\n",
       "      <td>406829</td>\n",
       "      <td>406829</td>\n",
       "      <td>406829</td>\n",
       "      <td>406829</td>\n",
       "      <td>406829</td>\n",
       "      <td>406829</td>\n",
       "    </tr>\n",
       "    <tr>\n",
       "      <th>Valores Nulos (Cantidad)</th>\n",
       "      <td>0</td>\n",
       "      <td>0</td>\n",
       "      <td>0</td>\n",
       "      <td>0</td>\n",
       "      <td>0</td>\n",
       "      <td>0</td>\n",
       "      <td>0</td>\n",
       "      <td>0</td>\n",
       "    </tr>\n",
       "    <tr>\n",
       "      <th>Valores Nulos (%)</th>\n",
       "      <td>0.0</td>\n",
       "      <td>0.0</td>\n",
       "      <td>0.0</td>\n",
       "      <td>0.0</td>\n",
       "      <td>0.0</td>\n",
       "      <td>0.0</td>\n",
       "      <td>0.0</td>\n",
       "      <td>0.0</td>\n",
       "    </tr>\n",
       "  </tbody>\n",
       "</table>\n",
       "</div>"
      ],
      "text/plain": [
       "                         InvoiceNo StockCode Description Quantity  \\\n",
       "Tipo Columnas               object    object      object    int64   \n",
       "Total Registros             406829    406829      406829   406829   \n",
       "Valores Nulos (Cantidad)         0         0           0        0   \n",
       "Valores Nulos (%)              0.0       0.0         0.0      0.0   \n",
       "\n",
       "                             InvoiceDate UnitPrice CustomerID Country  \n",
       "Tipo Columnas             datetime64[ns]   float64    float64  object  \n",
       "Total Registros                   406829    406829     406829  406829  \n",
       "Valores Nulos (Cantidad)               0         0          0       0  \n",
       "Valores Nulos (%)                    0.0       0.0        0.0     0.0  "
      ]
     },
     "execution_count": 29,
     "metadata": {},
     "output_type": "execute_result"
    }
   ],
   "source": [
    "# Vamos a revisar nuevamente los datos, a ver si se modificó o no\n",
    "\n",
    "columnas = pd.DataFrame(df.dtypes).T.rename(index={0: 'Tipo Columnas'})\n",
    "total_re = pd.DataFrame(df.count()).T.rename(index={0:'Total Registros'})\n",
    "valores_n = pd.DataFrame(df.isnull().sum()).T.rename(index={0:'Valores Nulos (Cantidad)'})\n",
    "valores_p = pd.DataFrame((df.isnull().sum()/df.shape[0])* 100).T.rename(index={0:'Valores Nulos (%)'})\n",
    "table_info = pd.concat([columnas,total_re,valores_n,valores_p],axis=0)\n",
    "table_info"
   ]
  },
  {
   "cell_type": "code",
   "execution_count": 30,
   "id": "64010beb-c4f2-40a2-ace6-241b8664f8d3",
   "metadata": {},
   "outputs": [],
   "source": [
    "# Voy a sacar los números negativos de las features Quantity,UnitPrice y StockCode\n",
    "df.drop(df[df['Quantity']<=0].index,inplace=True)\n",
    "df.drop(df[df['UnitPrice']<=0].index,inplace=True)\n",
    "df.drop(df[df['StockCode'] == 'POST'].index,inplace=True)"
   ]
  },
  {
   "cell_type": "code",
   "execution_count": 31,
   "id": "a412aaa4-74be-4e48-a2de-76e5b5b43b22",
   "metadata": {},
   "outputs": [
    {
     "data": {
      "image/png": "[encoded data removed]",
      "text/plain": [
       "<Figure size 1800x900 with 2 Axes>"
      ]
     },
     "metadata": {},
     "output_type": "display_data"
    }
   ],
   "source": [
    "# vamos a revisar los outlier en boxplots, para problemas de valores atípicos\n",
    "fig, ax = plt.subplots(1,2,figsize=(18,9))\n",
    "fig.suptitle('Revisión Outlier ( Valores Atípicos) Cantidad y Precio,',fontsize=24,fontweight='bold')\n",
    "bx_cantidad = sns.boxplot(x=df['Quantity'],width=0.5,palette='Blues',ax=ax[0])\n",
    "bx_cantidad.set_title('Variable \"Cantidad\"',fontsize=16)\n",
    "bx_cantidad.set_xlabel('N° De Artículos',fontsize=12)\n",
    "bx_cantidad.set_ylabel('Casos', fontsize=12)\n",
    "bx_cantidad.tick_params(labelsize=10)\n",
    "\n",
    "bx_precio = sns.boxplot(x=df['UnitPrice'],width=0.5,palette='inferno_r',ax=ax[1])\n",
    "bx_precio.set_title('Variable \"Precio Unitario\"',fontsize=16)\n",
    "bx_precio.set_xlabel('Precio Unitario (en euros)',fontsize=12)\n",
    "bx_precio.set_ylabel('Casos', fontsize=12)\n",
    "bx_precio.tick_params(labelsize=10)\n",
    "\n",
    "plt.show()"
   ]
  },
  {
   "cell_type": "code",
   "execution_count": 32,
   "id": "05ce4b8a-3c42-4e05-909b-dee419bf436e",
   "metadata": {},
   "outputs": [
    {
     "data": {
      "text/plain": [
       "RangeIndex(start=0, stop=396785, step=1)"
      ]
     },
     "execution_count": 32,
     "metadata": {},
     "output_type": "execute_result"
    }
   ],
   "source": [
    "# vamos a ordenar el dataset con la siguiente sintaxis\n",
    "df.reset_index(drop=True,inplace=True)\n",
    "df.index"
   ]
  },
  {
   "cell_type": "markdown",
   "id": "a00d20fb",
   "metadata": {},
   "source": [
    "Para poder aislar directamente a los outliers se aplicará el **método de Tukey** mediante rangos intercuartiles. La funcion a continuación tiene como proposito guardar en objetos tanto a outliers posibles (cerca exterior de valores) como probables (cerca interior):"
   ]
  },
  {
   "cell_type": "code",
   "execution_count": 33,
   "id": "c39be211",
   "metadata": {},
   "outputs": [],
   "source": [
    "# Método turkey\n",
    "def metodo_turkey(df, feature):\n",
    "    \"\"\"\n",
    "    Toma dos parámetros: el dataframe y la característica, por lo cuál\n",
    "    extrae el rango quartil de la misma\n",
    "    \"\"\"\n",
    "    q1 = df[feature].quantile(0.25)\n",
    "    q3 = df[feature].quantile(0.75)\n",
    "    iqr = q1 - q3\n",
    "    inner_fence = 1.5 * iqr\n",
    "    outer_fence = 3 * iqr\n",
    "    \n",
    "    inner_fence_le =  q1 - inner_fence\n",
    "    inner_fence_ue =  q3 + inner_fence\n",
    "    \n",
    "    outer_fence_le = q1 - outer_fence\n",
    "    outer_fence_ue = q3 + outer_fence\n",
    "    \n",
    "    outliers_prob = []\n",
    "    outliers_poss = []\n",
    "    \n",
    "    for index, x in enumerate(df[feature]):\n",
    "        if x <= outer_fence_le or x >= outer_fence_ue:\n",
    "            outliers_prob.append(index)\n",
    "    \n",
    "    for index, x in enumerate(df[feature]):\n",
    "        if x <= inner_fence_le or x >= inner_fence_ue:\n",
    "            outliers_poss.append(index)\n",
    "    \n",
    "    return outliers_prob, outliers_poss"
   ]
  },
  {
   "cell_type": "code",
   "execution_count": null,
   "id": "86f60507",
   "metadata": {},
   "outputs": [],
   "source": []
  }
 ],
 "metadata": {
  "kernelspec": {
   "display_name": "Python 3 (ipykernel)",
   "language": "python",
   "name": "python3"
  },
  "language_info": {
   "codemirror_mode": {
    "name": "ipython",
    "version": 3
   },
   "file_extension": ".py",
   "mimetype": "text/x-python",
   "name": "python",
   "nbconvert_exporter": "python",
   "pygments_lexer": "ipython3",
   "version": "3.10.6"
  }
 },
 "nbformat": 4,
 "nbformat_minor": 5
}
